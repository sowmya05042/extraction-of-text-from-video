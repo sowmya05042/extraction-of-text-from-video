{
  "nbformat": 4,
  "nbformat_minor": 0,
  "metadata": {
    "colab": {
      "name": "Video_to_Text.ipynb",
      "version": "0.3.2",
      "provenance": [],
      "private_outputs": true,
      "collapsed_sections": [],
      "toc_visible": true,
      "include_colab_link": true
    },
    "kernelspec": {
      "name": "python3",
      "display_name": "Python 3"
    },
    "accelerator": "TPU"
  },
  "cells": [
    {
      "cell_type": "markdown",
      "metadata": {
        "id": "view-in-github",
        "colab_type": "text"
      },
      "source": [
        "<a href=\"https://colab.research.google.com/github/HollandKnight/Text_from_Video_Extractor/blob/master/Video_to_Text.ipynb\" target=\"_parent\"><img src=\"https://colab.research.google.com/assets/colab-badge.svg\" alt=\"Open In Colab\"/></a>"
      ]
    },
    {
      "cell_type": "markdown",
      "metadata": {
        "id": "yKk72Fd19V9M",
        "colab_type": "text"
      },
      "source": [
        "## Video capture a list of text entries on your iOS or Android device that you can't otherwise download or copy; convert to JPG frames; OCR the frames and programatically create spreadsheet with output."
      ]
    },
    {
      "cell_type": "code",
      "metadata": {
        "id": "Rlyu7KluM7vw",
        "colab_type": "code",
        "colab": {}
      },
      "source": [
        "# Program To Read video \n",
        "# and Extract Frames \n",
        "import cv2 \n",
        "\n",
        "# Function to extract frames \n",
        "def FrameCapture(path): \n",
        "\t# Path to video file \n",
        "    vidObj = cv2.VideoCapture(path) \n",
        "    print(type(vidObj))\n",
        "\t# Used as counter variable \n",
        "    count = 0\n",
        "\t# checks whether frames were extracted \n",
        "    success = 1\n",
        "    while success:\n",
        "        success, image = vidObj.read() \n",
        "        print(success)\n",
        "        cv2.imwrite(\"frame%d.jpg\" % count, image) \n",
        "        count += 1\n",
        "\n",
        "FrameCapture('file.MP4') "
      ],
      "execution_count": 0,
      "outputs": []
    },
    {
      "cell_type": "code",
      "metadata": {
        "id": "jGQjtd_qNA9a",
        "colab_type": "code",
        "colab": {}
      },
      "source": [
        "try:\n",
        "    from pdf2image import convert_from_path\n",
        "except:\n",
        "    !sudo apt install poppler-utils\n",
        "    !pip install pdf2image\n",
        "    from pdf2image import convert_from_path\n",
        "    \n",
        "#!sudo apt install libtesseract-dev\n",
        "#!sudo apt install tesseract-ocr\n",
        "#!pip install pytesseract\n",
        "import cv2\n",
        "import sys\n",
        "import pytesseract\n",
        "import os\n",
        "import shutil \n",
        "import re\n",
        "import pandas as pd\n",
        "rootdir = './'\n",
        "output_path = './'\n",
        "i=0\n",
        "x = 20\n",
        "entries = []\n",
        "print('ok')\n",
        "#for subdir, dirs, files in os.walk(rootdir):\n",
        "    #for file in files:\n",
        "for file in os.listdir(rootdir):\n",
        "    if 1 == 1:\n",
        "        i=i+1\n",
        "        if file.startswith('frame'):\n",
        "            print(file)\n",
        "            if i >= x:\n",
        "                try:\n",
        "                    imPath = output_path\n",
        "                    config = ('-l eng --oem 1 --psm 3')\n",
        "                    im = cv2.imread(imPath, cv2.IMREAD_COLOR)\n",
        "                    text = pytesseract.image_to_string(im, config=config)\n",
        "                    print(text)\n",
        "                    entries.append(text)\n",
        "                    x = x+20\n",
        "                except Exception as e: print(e)\n",
        "                    \n",
        "df = pd.DataFrame()\n",
        "df['entries'] = entries\n",
        "df.to_excel('zsafe.xlsx')\n",
        "\n",
        "def remove_garbage(text):\n",
        "    clean = re.sub('Nx\\w+', '', str(text))\n",
        "    clean = re.sub('NX\\w+', '', str(clean))\n",
        "    clean = re.sub('\\n{2,}', '\\n***********\\n', str(clean)) #This becomes delimiter between registrants\n",
        "    clean = re.sub(r'bbs', '', str(clean))\n",
        "    clean = re.sub(r'bbe', '', str(clean))\n",
        "    clean = re.sub('Q[\\n+\\s+]', '', str(clean)) \n",
        "    clean = re.sub('\\|', '', str(clean))\n",
        "    clean = re.sub('\\s+a\\s+', '', str(clean))\n",
        "    print(clean)\n",
        "    return clean\n",
        "\n",
        "df['entries'] = df['entries'].apply(remove_garbage)\n",
        "\n",
        "name = []\n",
        "pos = []\n",
        "co = []\n",
        "\n",
        "for index, row in df.iterrows():\n",
        "    print('test')\n",
        "    segments = re.split(r'\\*\\*\\*\\*\\*\\*\\*\\*\\*\\*\\*', df['entries'][index])\n",
        "    for attendee in segments:\n",
        "        line = re.split('\\n', attendee)\n",
        "        try:\n",
        "            name_item = line[1]\n",
        "            print(line[1])\n",
        "            pos_item = line[2]\n",
        "            print(line[2])\n",
        "            co_item = line[3]\n",
        "            print(line[3])\n",
        "            name.append(name_item)\n",
        "            print(line[1])\n",
        "            pos.append(pos_item)\n",
        "            print(line[2])\n",
        "            co.append(co_item)\n",
        "            print(line[3])\n",
        "        except:\n",
        "            print('err')\n",
        "    \n",
        "df_2 = pd.DataFrame()\n",
        "df_2['name'] = name\n",
        "df_2['pos'] = pos\n",
        "df_2['co'] = co\n",
        "\n",
        "display(df_2)\n",
        "df_2.to_excel('test.xlsx')\n"
      ],
      "execution_count": 0,
      "outputs": []
    },
    {
      "cell_type": "code",
      "metadata": {
        "id": "9Uy32GjDkJhI",
        "colab_type": "code",
        "colab": {}
      },
      "source": [
        ""
      ],
      "execution_count": 0,
      "outputs": []
    }
  ]
}